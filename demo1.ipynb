{
 "cells": [
  {
   "cell_type": "code",
   "execution_count": 2,
   "metadata": {},
   "outputs": [],
   "source": [
    "import tensorflow as tf\n",
    "import numpy as np\n",
    "from sklearn import datasets\n",
    "\n",
    "iris = datasets.load_iris()"
   ]
  },
  {
   "cell_type": "code",
   "execution_count": 3,
   "metadata": {},
   "outputs": [
    {
     "output_type": "stream",
     "name": "stdout",
     "text": "tf.Tensor([5.1 3.5 1.4 0.2], shape=(4,), dtype=float64) tf.Tensor(0, shape=(), dtype=int64)\ntf.Tensor([4.9 3.  1.4 0.2], shape=(4,), dtype=float64) tf.Tensor(0, shape=(), dtype=int64)\ntf.Tensor([4.7 3.2 1.3 0.2], shape=(4,), dtype=float64) tf.Tensor(0, shape=(), dtype=int64)\ntf.Tensor([4.6 3.1 1.5 0.2], shape=(4,), dtype=float64) tf.Tensor(0, shape=(), dtype=int64)\ntf.Tensor([5.  3.6 1.4 0.2], shape=(4,), dtype=float64) tf.Tensor(0, shape=(), dtype=int64)\n"
    }
   ],
   "source": [
    "ds1 = tf.data.Dataset.from_tensor_slices((iris['data'], iris['target']))\n",
    "for features, label in ds1.take(5):\n",
    "    print(features, label)"
   ]
  },
  {
   "cell_type": "code",
   "execution_count": 4,
   "metadata": {},
   "outputs": [
    {
     "output_type": "stream",
     "name": "stdout",
     "text": "{'petal length (cm)': 1.4,\n 'petal width (cm)': 0.2,\n 'sepal length (cm)': 5.1,\n 'sepal width (cm)': 3.5} 0\n{'petal length (cm)': 1.4,\n 'petal width (cm)': 0.2,\n 'sepal length (cm)': 4.9,\n 'sepal width (cm)': 3} 0\n{'petal length (cm)': 1.3,\n 'petal width (cm)': 0.2,\n 'sepal length (cm)': 4.7,\n 'sepal width (cm)': 3.2} 0\n"
    }
   ],
   "source": [
    "import pandas as pd\n",
    "\n",
    "dfiris = pd.DataFrame(iris['data'], columns=iris.feature_names)\n",
    "ds2 = tf.data.Dataset.from_tensor_slices((dfiris.to_dict('list'), iris['target']))\n",
    "\n",
    "for features, label in ds2.take(3):\n",
    "    tf.print(features, label)"
   ]
  },
  {
   "cell_type": "code",
   "execution_count": 5,
   "metadata": {},
   "outputs": [
    {
     "output_type": "stream",
     "name": "stdout",
     "text": "Found 0 images belonging to 0 classes.\n{}\n<FlatMapDataset shapes: (<unknown>, <unknown>), types: (tf.float32, tf.int32)>\n"
    }
   ],
   "source": [
    "from matplotlib import pyplot as plt\n",
    "from tensorflow.keras.preprocessing.image import ImageDataGenerator\n",
    "\n",
    "image_generator = ImageDataGenerator(rescale=1.0/255).flow_from_directory(\n",
    "    \"./data/cifar10/\",\n",
    "    target_size=(32, 32),\n",
    "    batch_size=10,\n",
    "    class_mode='binary')\n",
    "\n",
    "classdict = image_generator.class_indices\n",
    "print(classdict)\n",
    "\n",
    "def generator():\n",
    "    for features, label in image_generator:\n",
    "        yield (features, label)\n",
    "\n",
    "ds3 = tf.data.Dataset.from_generator(generator, output_types=(tf.float32, tf.int32))"
   ]
  },
  {
   "cell_type": "code",
   "execution_count": null,
   "metadata": {},
   "outputs": [],
   "source": [
    "plt.figure(figsize=(6,6))\n",
    "for i, (img, label) in enumerate(ds3.unbatch().take(9)):\n",
    "    ax = plt.subplot(3, 3, i + 1)\n",
    "    ax.imshow(img.numpy())\n",
    "    ax.set_title('label = %d' % label)\n",
    "    ax.set_xticks([])\n",
    "    ax.set_yticks([])\n",
    "plt.show()"
   ]
  }
 ],
 "metadata": {
  "language_info": {
   "codemirror_mode": {
    "name": "ipython",
    "version": 3
   },
   "file_extension": ".py",
   "mimetype": "text/x-python",
   "name": "python",
   "nbconvert_exporter": "python",
   "pygments_lexer": "ipython3",
   "version": "3.7.6-final"
  },
  "orig_nbformat": 2,
  "kernelspec": {
   "name": "python37664bitd760daf533c7437eb8831eab8f2a32f6",
   "display_name": "Python 3.7.6 64-bit"
  }
 },
 "nbformat": 4,
 "nbformat_minor": 2
}