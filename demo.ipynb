{
 "cells": [
  {
   "cell_type": "code",
   "execution_count": 4,
   "metadata": {},
   "outputs": [
    {
     "output_type": "stream",
     "name": "stdout",
     "text": "b'hello world'\n"
    }
   ],
   "source": [
    "import numpy as np\n",
    "import tensorflow as tf\n",
    "\n",
    "g = tf.compat.v1.Graph()\n",
    "with g.as_default():\n",
    "    x = tf.compat.v1.placeholder(name='x', shape=[], dtype=tf.string)\n",
    "    y = tf.compat.v1.placeholder(name='y', shape=[], dtype=tf.string)\n",
    "    z = tf.strings.join([x, y], name='join', separator=' ')\n",
    "\n",
    "with tf.compat.v1.Session(graph = g) as sess:\n",
    "    result = sess.run(fetches=z, feed_dict={x:'hello', y:'world'})\n",
    "    print(result)"
   ]
  },
  {
   "cell_type": "code",
   "execution_count": 8,
   "metadata": {},
   "outputs": [
    {
     "output_type": "stream",
     "name": "stdout",
     "text": "tf.Tensor(-2.0, shape=(), dtype=float32)\n"
    }
   ],
   "source": [
    "x = tf.Variable(0.0, name='x', dtype=tf.float32)\n",
    "a = tf.constant(1.0)\n",
    "b = tf.constant(-2.0)\n",
    "c = tf.constant(1.0)\n",
    "\n",
    "with tf.GradientTape() as tape:\n",
    "    y = a * tf.pow(x, 2) + b * x + c\n",
    "\n",
    "dy_dx = tape.gradient(y, x)\n",
    "print(dy_dx)"
   ]
  },
  {
   "cell_type": "code",
   "execution_count": 11,
   "metadata": {},
   "outputs": [
    {
     "output_type": "stream",
     "name": "stdout",
     "text": "22:53:36\n"
    }
   ],
   "source": [
    "@tf.function\n",
    "def printbar():\n",
    "    ts = tf.timestamp()\n",
    "    today_ts = ts % (24 * 60 * 60)\n",
    "    hour = tf.cast(today_ts // 3600 + 8, tf.int32) % tf.constant(24)\n",
    "    minite = tf.cast((today_ts % 3600) // 60, tf.int32)\n",
    "    second = tf.cast(tf.floor(today_ts % 60), tf.int32)\n",
    "\n",
    "    def timeformat(m):\n",
    "        if tf.strings.length(tf.strings.format('{}', m)) == 1:\n",
    "            return tf.strings.format('0{}', m)\n",
    "        return tf.strings.format('{}', m)\n",
    "    \n",
    "    timestring = tf.strings.join([timeformat(hour), timeformat(minite), timeformat(second)], separator=':')\n",
    "\n",
    "    tf.print(timestring)\n",
    "\n",
    "printbar()"
   ]
  },
  {
   "cell_type": "code",
   "execution_count": 12,
   "metadata": {},
   "outputs": [
    {
     "output_type": "execute_result",
     "data": {
      "text/plain": "<tf.Tensor: shape=(100,), dtype=float32, numpy=\narray([0.        , 0.06343435, 0.1268687 , 0.19030304, 0.2537374 ,\n       0.31717175, 0.38060609, 0.44404042, 0.5074748 , 0.57090914,\n       0.6343435 , 0.6977778 , 0.76121217, 0.82464653, 0.88808084,\n       0.9515152 , 1.0149496 , 1.0783839 , 1.1418183 , 1.2052526 ,\n       1.268687  , 1.3321213 , 1.3955556 , 1.45899   , 1.5224243 ,\n       1.5858587 , 1.6492931 , 1.7127274 , 1.7761617 , 1.839596  ,\n       1.9030304 , 1.9664648 , 2.0298991 , 2.0933335 , 2.1567678 ,\n       2.2202022 , 2.2836366 , 2.347071  , 2.4105053 , 2.4739397 ,\n       2.537374  , 2.6008081 , 2.6642425 , 2.7276769 , 2.7911112 ,\n       2.8545456 , 2.91798   , 2.9814143 , 3.0448487 , 3.108283  ,\n       3.1717174 , 3.2351518 , 3.2985861 , 3.3620205 , 3.4254549 ,\n       3.4888892 , 3.5523233 , 3.6157577 , 3.679192  , 3.7426264 ,\n       3.8060608 , 3.8694952 , 3.9329295 , 3.9963639 , 4.0597982 ,\n       4.1232324 , 4.186667  , 4.250101  , 4.3135357 , 4.37697   ,\n       4.4404044 , 4.5038385 , 4.567273  , 4.6307073 , 4.694142  ,\n       4.757576  , 4.8210106 , 4.8844447 , 4.9478793 , 5.0113134 ,\n       5.074748  , 5.138182  , 5.2016163 , 5.265051  , 5.328485  ,\n       5.3919196 , 5.4553537 , 5.5187883 , 5.5822225 , 5.645657  ,\n       5.709091  , 5.772526  , 5.83596   , 5.8993945 , 5.9628286 ,\n       6.026263  , 6.0896974 , 6.1531315 , 6.216566  , 6.28      ],\n      dtype=float32)>"
     },
     "metadata": {},
     "execution_count": 12
    }
   ],
   "source": [
    "tf.linspace(0.0, 6.28, 100)"
   ]
  },
  {
   "cell_type": "code",
   "execution_count": 13,
   "metadata": {},
   "outputs": [
    {
     "output_type": "stream",
     "name": "stdout",
     "text": "[[4 7 4 2 9]\n [9 1 2 4 7]\n [7 2 7 4 0]\n [9 6 9 7 2]\n [3 7 0 0 3]]\n"
    }
   ],
   "source": [
    "tf.random.set_seed(3)\n",
    "t = tf.random.uniform([5, 5], minval=0, maxval=10, dtype=tf.int32)\n",
    "tf.print(t)"
   ]
  },
  {
   "cell_type": "code",
   "execution_count": 17,
   "metadata": {},
   "outputs": [
    {
     "output_type": "stream",
     "name": "stdout",
     "text": "0\n4\n"
    }
   ],
   "source": [
    "tf.print(t[2,4])\n",
    "tf.print(t[0,0])"
   ]
  },
  {
   "cell_type": "code",
   "execution_count": 20,
   "metadata": {},
   "outputs": [
    {
     "output_type": "stream",
     "name": "stdout",
     "text": "[[7 4]\n [9 7]\n [0 0]]\n"
    }
   ],
   "source": [
    "tf.print(tf.slice(t, [2, 2], [3, 2]))"
   ]
  },
  {
   "cell_type": "code",
   "execution_count": 21,
   "metadata": {},
   "outputs": [
    {
     "output_type": "stream",
     "name": "stdout",
     "text": "TensorShape([1, 3, 3, 2])\n[[[[162 113]\n   [84 174]\n   [230 17]]\n\n  [[229 191]\n   [37 36]\n   [183 238]]\n\n  [[45 208]\n   [181 193]\n   [211 195]]]]\n"
    }
   ],
   "source": [
    "a = tf.random.uniform(shape=[1,3,3,2], minval=0, maxval=255, dtype=tf.int32)\n",
    "tf.print(a.shape)\n",
    "tf.print(a)"
   ]
  },
  {
   "cell_type": "code",
   "execution_count": 22,
   "metadata": {},
   "outputs": [
    {
     "output_type": "stream",
     "name": "stdout",
     "text": "[[162 113 84 174 230 17]\n [229 191 37 36 183 238]\n [45 208 181 193 211 195]]\n"
    }
   ],
   "source": [
    "b = tf.reshape(a, [3, 6])\n",
    "tf.print(b)"
   ]
  },
  {
   "cell_type": "code",
   "execution_count": 23,
   "metadata": {},
   "outputs": [],
   "source": [
    "a = tf.constant([[1.0,2.0],[3.0,4.0]])\n",
    "b = tf.constant([[5.0,6.0],[7.0,8.0]])\n",
    "c = tf.constant([[9.0,10.0],[11.0,12.0]])"
   ]
  },
  {
   "cell_type": "code",
   "execution_count": 25,
   "metadata": {},
   "outputs": [
    {
     "output_type": "stream",
     "name": "stdout",
     "text": "TensorShape([6, 2])\n[[1 2]\n [3 4]\n [5 6]\n [7 8]\n [9 10]\n [11 12]]\n"
    }
   ],
   "source": [
    "d = tf.concat([a, b, c], axis=0)\n",
    "tf.print(d.shape)\n",
    "tf.print(d)"
   ]
  },
  {
   "cell_type": "code",
   "execution_count": 27,
   "metadata": {},
   "outputs": [
    {
     "output_type": "stream",
     "name": "stdout",
     "text": "TensorShape([2, 6])\n[[1 2 5 6 9 10]\n [3 4 7 8 11 12]]\n"
    }
   ],
   "source": [
    "e = tf.concat([a, b, c], axis=1)\n",
    "tf.print(e.shape)\n",
    "tf.print(e)"
   ]
  },
  {
   "cell_type": "code",
   "execution_count": 28,
   "metadata": {},
   "outputs": [
    {
     "output_type": "stream",
     "name": "stdout",
     "text": "TensorShape([3, 2, 2])\n[[[1 2]\n  [3 4]]\n\n [[5 6]\n  [7 8]]\n\n [[9 10]\n  [11 12]]]\n"
    }
   ],
   "source": [
    "f = tf.stack([a, b, c], axis=0)\n",
    "tf.print(f.shape)\n",
    "tf.print(f)"
   ]
  },
  {
   "cell_type": "code",
   "execution_count": 29,
   "metadata": {},
   "outputs": [
    {
     "output_type": "stream",
     "name": "stdout",
     "text": "TensorShape([2, 3, 2])\n[[[1 2]\n  [5 6]\n  [9 10]]\n\n [[3 4]\n  [7 8]\n  [11 12]]]\n"
    }
   ],
   "source": [
    "g = tf.stack([a, b, c], axis=1)\n",
    "tf.print(g.shape)\n",
    "tf.print(g)"
   ]
  },
  {
   "cell_type": "code",
   "execution_count": 30,
   "metadata": {},
   "outputs": [
    {
     "output_type": "stream",
     "name": "stdout",
     "text": "TensorShape([2, 2, 3])\n[[[1 5 9]\n  [2 6 10]]\n\n [[3 7 11]\n  [4 8 12]]]\n"
    }
   ],
   "source": [
    "h = tf.stack([a, b, c], axis=2)\n",
    "tf.print(h.shape)\n",
    "tf.print(h)"
   ]
  },
  {
   "cell_type": "code",
   "execution_count": 35,
   "metadata": {},
   "outputs": [
    {
     "output_type": "stream",
     "name": "stdout",
     "text": "[1 2 3 ... 7 8 9]\n362880\n"
    }
   ],
   "source": [
    "a = tf.range(1, 10)\n",
    "tf.print(a)\n",
    "tf.print(tf.reduce_prod(a))"
   ]
  },
  {
   "cell_type": "code",
   "execution_count": 48,
   "metadata": {},
   "outputs": [
    {
     "output_type": "stream",
     "name": "stdout",
     "text": "[1 2 3 4 5 6 7 8 9]\n362880\n362880\n"
    }
   ],
   "source": [
    "b = np.arange(1, 10)\n",
    "print(b)\n",
    "print(np.product(b))\n",
    "print(1*2*3*4*5*6*7*8*9)"
   ]
  },
  {
   "cell_type": "code",
   "execution_count": 50,
   "metadata": {},
   "outputs": [
    {
     "output_type": "stream",
     "name": "stdout",
     "text": "[[2 3 4]\n [3 4 5]\n [4 5 6]]\n"
    }
   ],
   "source": [
    "c = tf.constant([1, 2, 3])\n",
    "d = tf.constant([[1], [2], [3]])\n",
    "tf.print(c + d)"
   ]
  },
  {
   "cell_type": "code",
   "execution_count": 51,
   "metadata": {},
   "outputs": [
    {
     "output_type": "stream",
     "name": "stdout",
     "text": "2\n3\n********************************************************\n2\n3\n"
    }
   ],
   "source": [
    "x = tf.Variable(1.0, dtype=tf.float32)\n",
    "\n",
    "@tf.function\n",
    "def add_x():\n",
    "    x.assign_add(1.0)\n",
    "    tf.print(x)\n",
    "    return x\n",
    "\n",
    "x1 = add_x()\n",
    "x2 = add_x()\n",
    "tf.print('*******' * 8)\n",
    "tf.print(x1)\n",
    "tf.print(x2)"
   ]
  },
  {
   "cell_type": "code",
   "execution_count": 52,
   "metadata": {},
   "outputs": [
    {
     "output_type": "stream",
     "name": "stdout",
     "text": "tracing\n0\n1\n2\n0\n1\n2\ntracing\n0\n1\n2\ntracing\n0\n1\n2\ntracing\n0\n1\n2\ntracing\n0\n1\n2\nWARNING:tensorflow:5 out of the last 6 calls to <function myadd at 0x13da0d050> triggered tf.function retracing. Tracing is expensive and the excessive number of tracings is likely due to passing python objects instead of tensors. Also, tf.function has experimental_relax_shapes=True option that relaxes argument shapes that can avoid unnecessary retracing. Please refer to https://www.tensorflow.org/tutorials/customization/performance#python_or_tensor_args and https://www.tensorflow.org/api_docs/python/tf/function for more details.\n"
    },
    {
     "output_type": "execute_result",
     "data": {
      "text/plain": "<tf.Tensor: shape=(), dtype=int32, numpy=17>"
     },
     "metadata": {},
     "execution_count": 52
    }
   ],
   "source": [
    "@tf.function(autograph=True)\n",
    "def myadd(a, b):\n",
    "    for i in tf.range(3):\n",
    "        tf.print(i)\n",
    "    c = a + b\n",
    "    print('tracing')\n",
    "    return c\n",
    "\n",
    "myadd(tf.constant('hello'), tf.constant('world'))\n",
    "myadd(tf.constant('game'), tf.constant('designer'))\n",
    "myadd(tf.constant(1), tf.constant(2))\n",
    "myadd(tf.constant([3, 4]), tf.constant([5, 6]))\n",
    "myadd(6, 7)\n",
    "myadd(8, 9)"
   ]
  },
  {
   "cell_type": "code",
   "execution_count": 57,
   "metadata": {},
   "outputs": [
    {
     "output_type": "stream",
     "name": "stdout",
     "text": "11\ntf.Tensor(11.0, shape=(), dtype=float32)\n()\n"
    }
   ],
   "source": [
    "class DemoModule(tf.Module):\n",
    "    def __init__(self, init_value = tf.constant(0.0), name = None):\n",
    "        super(DemoModule, self).__init__(name = name)\n",
    "        with self.name_scope:\n",
    "            self.x = tf.Variable(init_value, dtype = tf.float32, trainable = True)\n",
    "    \n",
    "    @tf.function(input_signature = [tf.TensorSpec(shape=[], dtype=tf.float32)])\n",
    "    def addprint(self, a):\n",
    "        with self.name_scope:\n",
    "            self.x.assign_add(a)\n",
    "            tf.print(self.x)\n",
    "            return self.x\n",
    "\n",
    "demo = DemoModule(init_value = tf.constant(2.0))\n",
    "res = demo.addprint(tf.constant(9.0))\n",
    "print(res)\n",
    "print(demo.submodules)"
   ]
  },
  {
   "cell_type": "code",
   "execution_count": 59,
   "metadata": {},
   "outputs": [
    {
     "output_type": "stream",
     "name": "stdout",
     "text": "WARNING:tensorflow:From /usr/local/lib/python3.7/site-packages/tensorflow_core/python/ops/resource_variable_ops.py:1786: calling BaseResourceVariable.__init__ (from tensorflow.python.ops.resource_variable_ops) with constraint is deprecated and will be removed in a future version.\nInstructions for updating:\nIf using Keras pass *_constraint arguments to layers.\nINFO:tensorflow:Assets written to: ./data/demo/1/assets\n"
    }
   ],
   "source": [
    "tf.saved_model.save(demo, './data/demo/1', signatures = {'serving_default':demo.addprint})"
   ]
  }
 ],
 "metadata": {
  "language_info": {
   "codemirror_mode": {
    "name": "ipython",
    "version": 3
   },
   "file_extension": ".py",
   "mimetype": "text/x-python",
   "name": "python",
   "nbconvert_exporter": "python",
   "pygments_lexer": "ipython3",
   "version": "3.7.6-final"
  },
  "orig_nbformat": 2,
  "kernelspec": {
   "name": "python37664bit941998266e7e4f4e95c89bb13bdbaee6",
   "display_name": "Python 3.7.6 64-bit"
  }
 },
 "nbformat": 4,
 "nbformat_minor": 2
}